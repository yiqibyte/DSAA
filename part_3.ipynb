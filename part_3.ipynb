{
 "cells": [
  {
   "cell_type": "code",
   "execution_count": null,
   "id": "8ae89ed2",
   "metadata": {},
   "outputs": [
    {
     "name": "stdout",
     "output_type": "stream",
     "text": [
      "3\n"
     ]
    }
   ],
   "source": [
    "# 找零兑换问题\n",
    "charge = 63\n",
    "coins = [25, 10, 1, 21]\n",
    "\n",
    "def coincharge(charge, coins):\n",
    "\tif charge < 10:\n",
    "\t\treturn charge\n",
    "\tif charge >= 10 and charge < 21:\n",
    "\t\treturn charge - 10 + 1\n",
    "\tif charge >= 21 and charge < 25:\n",
    "\t\treturn charge - 21 + 1\n",
    "\tif charge == 25:\n",
    "\t\treturn 1\n",
    "\treturn min([coincharge(charge-coin, coins) + 1 for coin in coins])\n",
    "\t\t\n",
    "print(coincharge(charge, coins))\n"
   ]
  },
  {
   "cell_type": "code",
   "execution_count": null,
   "id": "184a1116",
   "metadata": {},
   "outputs": [
    {
     "name": "stdout",
     "output_type": "stream",
     "text": [
      "6\n"
     ]
    }
   ],
   "source": [
    "# 找零兑换问题\n",
    "charge = 63\n",
    "coins = [25, 10, 1]\n",
    "\n",
    "def coincharge(charge, coins, memo={}):\n",
    "\tif charge in memo:\n",
    "\t\treturn memo[charge]\n",
    "\tif charge == 0:\n",
    "\t\treturn 0\n",
    "\tif charge < 0:\n",
    "\t\treturn float('inf')\n",
    "\n",
    "\tmemo[charge] = min(coincharge(charge - coin, coins, memo) + 1 for coin in coins)\n",
    "\treturn memo[charge]\n",
    "\n",
    "print(coincharge(charge, coins))"
   ]
  },
  {
   "cell_type": "code",
   "execution_count": null,
   "id": "98da765f",
   "metadata": {},
   "outputs": [
    {
     "name": "stdout",
     "output_type": "stream",
     "text": [
      "6\n"
     ]
    }
   ],
   "source": [
    "def coincharge(charge, coins):\n",
    "\tdp = [float('inf')] * (charge + 1)\n",
    "\tdp[0] = 0\n",
    "\tfor i in range(1, charge+1):\n",
    "\t\tfor coin in coins:\n",
    "\t\t\tif i >= coin:\n",
    "\t\t\t\tdp[i] = min(dp[i - coin] + 1, dp[i])\n",
    "\n",
    "\treturn dp[charge]\n",
    "\n",
    "print(coincharge(charge, coins))\t"
   ]
  },
  {
   "cell_type": "code",
   "execution_count": null,
   "id": "30c5183b",
   "metadata": {},
   "outputs": [
    {
     "data": {
      "text/plain": [
       "([3, 3, 3, 3, 3], 40)"
      ]
     },
     "execution_count": 49,
     "metadata": {},
     "output_type": "execute_result"
    }
   ],
   "source": [
    "weights = [2, 3, 4, 5, 9]\n",
    "values = [3, 4, 8, 8, 10]\n",
    "wLim = 20\n",
    "\n",
    "def maxValue(wLim, weights, values):\n",
    "\titems = [[] for i in range(wLim + 1)]\n",
    "\ttotal_val = [0] * (wLim + 1)\n",
    "\titems[0] = []\n",
    "\n",
    "\tfor w in range(1, wLim + 1):\n",
    "\t\tfor i in range(len(weights)):\n",
    "\t\t\tif w >= weights[i]:\n",
    "\t\t\t\tif total_val[w] < total_val[w - weights[i]] + values[i]:\n",
    "\t\t\t\t\ttotal_val[w] = total_val[w - weights[i]] + values[i]\n",
    "\t\t\t\t\titems[w] = items[w - weights[i]] + [i + 1]\n",
    "\treturn items[-1], total_val[-1]\n",
    "\n",
    "\n",
    "\n",
    "maxValue(wLim, weights, values)"
   ]
  },
  {
   "cell_type": "code",
   "execution_count": null,
   "id": "947a2675",
   "metadata": {},
   "outputs": [
    {
     "data": {
      "text/plain": [
       "([3, 3, 3, 3, 3], 40)"
      ]
     },
     "execution_count": 56,
     "metadata": {},
     "output_type": "execute_result"
    }
   ],
   "source": [
    "weights = [2, 3, 4, 5, 9]\n",
    "values = [3, 4, 8, 8, 10]\n",
    "wLim = 20\n",
    "\n",
    "def maxValue(wLim, weights, values):\n",
    "\titems = [[] for i in range(wLim + 1)]\n",
    "\ttotal_val = [0] * (wLim + 1)\n",
    "\titems[0] = []\n",
    "\n",
    "\tfor w in range(1, wLim + 1):\n",
    "\t\tfor i in range(len(weights)):\n",
    "\t\t\tif w >= weights[i]:\n",
    "\t\t\t\tif total_val[w] < total_val[w - weights[i]] + values[i]:\n",
    "\t\t\t\t\ttotal_val[w] = total_val[w - weights[i]] + values[i]\n",
    "\t\t\t\t\titems[w] = items[w - weights[i]] + [i + 1]\n",
    "\treturn items[-1], total_val[-1]\n",
    "\n",
    "\n",
    "\n",
    "maxValue(wLim, weights, values)"
   ]
  },
  {
   "cell_type": "code",
   "execution_count": null,
   "id": "51d523d8",
   "metadata": {},
   "outputs": [
    {
     "data": {
      "text/plain": [
       "([3, 3, 3, 3, 3], 40)"
      ]
     },
     "execution_count": 65,
     "metadata": {},
     "output_type": "execute_result"
    }
   ],
   "source": [
    "weights = [2, 3, 4, 5, 9]\n",
    "values = [3, 4, 8, 8, 10]\n",
    "wLim = 20\n",
    "\n",
    "def maxValue(wLim, weights, values):\n",
    "\titems = [[] for i in range(wLim + 1)]\n",
    "\ttotal_val = [0] * (wLim + 1)\n",
    "\n",
    "\tremain = [i for i in range(1, len(weights)+1)]\n",
    "\tfor w in range(1, wLim + 1):\n",
    "\t\tremain = [i for i in remain if i not in items[w]]\n",
    "\t\tfor i in range(len(remain)):\n",
    "\t\t\tif w >= remain[i]:\n",
    "\t\t\t\tif total_val[w] < total_val[w - weights[remain[i]-1]] + values[i]:\n",
    "\t\t\t\t\ttotal_val[w] = total_val[w - weights[remain[i]-1]] + values[i]\n",
    "\t\t\t\t\titems[w] = items[w - weights[remain[i]-1]] + [i + 1]\n",
    "\treturn items[-1], total_val[-1]\n",
    "\n",
    "\n",
    "\n",
    "maxValue(wLim, weights, values)"
   ]
  },
  {
   "cell_type": "code",
   "execution_count": 71,
   "id": "71c5270d",
   "metadata": {},
   "outputs": [
    {
     "data": {
      "text/plain": [
       "([1, 3, 4, 5], 29)"
      ]
     },
     "execution_count": 71,
     "metadata": {},
     "output_type": "execute_result"
    }
   ],
   "source": [
    "def maxValue_01knapsack(wLim, weights, values):\n",
    "\tn = len(weights)\n",
    "\tdp = [0] * (wLim + 1)\n",
    "\tpath = [[] for _ in range(wLim + 1)]  # path[w] 记录容量 w 时的物品编号\n",
    "\n",
    "\tfor i in range(n):  # 遍历每个物品\n",
    "\t\tfor w in range(wLim, weights[i] - 1, -1):  # 倒序：保证每个物品最多使用一次\n",
    "\t\t\tif dp[w] < dp[w - weights[i]] + values[i]:\n",
    "\t\t\t\tdp[w] = dp[w - weights[i]] + values[i]\n",
    "\t\t\t\tpath[w] = path[w - weights[i]] + [i + 1]  # 编号从 1 开始\n",
    "\n",
    "\treturn path[wLim], dp[wLim]\n",
    "\n",
    "maxValue_01knapsack(wLim, weights, values)"
   ]
  },
  {
   "cell_type": "code",
   "execution_count": 101,
   "id": "b3d853ab",
   "metadata": {},
   "outputs": [
    {
     "data": {
      "text/plain": [
       "29"
      ]
     },
     "execution_count": 101,
     "metadata": {},
     "output_type": "execute_result"
    }
   ],
   "source": [
    "items = [(2, 3), (3, 4), (4, 8), (5, 8), (9, 10)]\n",
    "\n",
    "wLim = 20\n",
    "\n",
    "def thief(items, wLim):\n",
    "\tmat = [[0] * (wLim + 1) for _ in range(len(items)+1)]\n",
    "\titem_nums = len(items)\n",
    "\tif wLim == 0 or item_nums == 0:\n",
    "\t\treturn mat\n",
    "\n",
    "\tfor i in range(1, item_nums + 1):\n",
    "\t\tfor w in range(1, wLim + 1):\n",
    "\t\t\tif w >= items[i-1][0]:\n",
    "\t\t\t\tmat[i][w] = max(mat[i][w], mat[i-1][w-items[i-1][0]] + items[i-1][1])\n",
    "\t\t\telse:\n",
    "\t\t\t\tmat[i][w] = mat[i-1][w]\n",
    "\treturn \tmat[-1][-1]\n",
    "\n",
    "\n",
    "thief(items, 20)\n",
    "\n",
    "\t\n",
    "\n"
   ]
  },
  {
   "cell_type": "code",
   "execution_count": 100,
   "id": "addc0437",
   "metadata": {},
   "outputs": [
    {
     "data": {
      "text/plain": [
       "29"
      ]
     },
     "execution_count": 100,
     "metadata": {},
     "output_type": "execute_result"
    }
   ],
   "source": [
    "def thief(items, wLim):\n",
    "    \"\"\"\n",
    "    0/1 背包动态规划算法，返回 DP 矩阵\n",
    "    items: 列表，每个元素是 (重量, 价值)\n",
    "    wLim: 背包最大容量\n",
    "    返回: DP 表 mat[i][w] 表示前 i 个物品在容量 w 下的最大价值\n",
    "    \"\"\"\n",
    "    item_nums = len(items)\n",
    "    # 创建 DP 表，行数为物品数+1，列数为容量+1，初始化为 0\n",
    "    mat = [[0] * (wLim + 1) for _ in range(item_nums + 1)]\n",
    "\n",
    "    for i in range(1, item_nums + 1):  # 遍历物品\n",
    "        weight, value = items[i - 1]\n",
    "        for w in range(wLim + 1):  # 遍历容量\n",
    "            if w >= weight:\n",
    "                # 放 or 不放当前物品，取最大值\n",
    "                mat[i][w] = max(mat[i - 1][w], mat[i - 1][w - weight] + value)\n",
    "            else:\n",
    "                # 背包放不下当前物品，只能继承上一行\n",
    "                mat[i][w] = mat[i - 1][w]\n",
    "    \n",
    "    return mat[-1][-1]\n",
    "\n",
    "thief(items, 20)"
   ]
  }
 ],
 "metadata": {
  "kernelspec": {
   "display_name": "dl",
   "language": "python",
   "name": "python3"
  },
  "language_info": {
   "codemirror_mode": {
    "name": "ipython",
    "version": 3
   },
   "file_extension": ".py",
   "mimetype": "text/x-python",
   "name": "python",
   "nbconvert_exporter": "python",
   "pygments_lexer": "ipython3",
   "version": "3.10.18"
  }
 },
 "nbformat": 4,
 "nbformat_minor": 5
}
